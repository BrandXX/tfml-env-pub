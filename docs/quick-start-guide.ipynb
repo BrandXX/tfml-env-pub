{
 "cells": [
  {
   "cell_type": "markdown",
   "metadata": {},
   "source": [
    "---------------------------------------------------------------------------\n",
    "### Step by step guide to create a Tensorflow 2.0, CUDA enabled, Python environment within WSL2\n",
    "---------------------------------------------------------------------------"
   ]
  },
  {
   "cell_type": "code",
   "execution_count": null,
   "metadata": {
    "vscode": {
     "languageId": "html"
    }
   },
   "outputs": [],
   "source": [
    "# Getting Started\n",
    "\n",
    "This quick start guide assumes\n",
    "    # - A CUDA enabled NVIDIA GPU is present.\n",
    "        # - Check the CUDA Compatibility list for more info - https://developer.nvidia.com/cuda-gpus\n",
    "    # - A CUDA enabled NVIDIA driver is installed in Windows\n",
    "    # - An Ubuntu WSL2 Distro is up and running in a supported Windows build\n",
    "    # - Network/Internet is available within Windows and the WSL2 environment\n",
    "    # - A user was created during the deployment of Ubuntu\n",
    "    # - Basic understanding of ubuntu Linux command Line, PowerShell and Python (Nothing heavy is needed)\n",
    "    \n",
    "More info\n",
    "    # TFML = Tensorflow Machine Learning\n",
    "    # My Distro is named 'ubuntu-tfml' which I use in the examples\n",
    "    # My Conda environment is named 'tfml' which I use in the examples"
   ]
  },
  {
   "cell_type": "code",
   "execution_count": null,
   "metadata": {
    "vscode": {
     "languageId": "shellscript"
    }
   },
   "outputs": [],
   "source": [
    "# Set the Default user in /etc/wsl.conf\n",
    "# This must be done as root\n",
    "sudo su\n",
    "echo -e '# My TFML Environment \\n[boot] \\nsystemd=true \\n \\n[user] \\ndefault=userx \\n' > /etc/wsl.conf"
   ]
  },
  {
   "cell_type": "code",
   "execution_count": null,
   "metadata": {
    "vscode": {
     "languageId": "powershell"
    }
   },
   "outputs": [],
   "source": [
    "# Restart Ubuntu\n",
    "# Exit Ubuntu then in PowerShell run the following\n",
    "wsl --shutdown\n",
    "wsl -d ubuntu-tfml"
   ]
  },
  {
   "cell_type": "code",
   "execution_count": null,
   "metadata": {
    "vscode": {
     "languageId": "shellscript"
    }
   },
   "outputs": [],
   "source": [
    "# Update/upgrade with apt\n",
    "sudo apt update && sudo apt upgrade"
   ]
  },
  {
   "cell_type": "code",
   "execution_count": null,
   "metadata": {
    "vscode": {
     "languageId": "shellscript"
    }
   },
   "outputs": [],
   "source": [
    "# Create the folder structure in \\home\\user directory\n",
    "cd ~\n",
    "mkdir {_admin,_temp,docs,downloads,env,projects,env/base,env/tfml}"
   ]
  },
  {
   "cell_type": "code",
   "execution_count": null,
   "metadata": {
    "vscode": {
     "languageId": "shellscript"
    }
   },
   "outputs": [],
   "source": [
    "# Download latest version of Miniconda\n",
    "wget https://repo.anaconda.com/miniconda/Miniconda3-latest-Linux-x86_64.sh -P ~/downloads/"
   ]
  },
  {
   "cell_type": "code",
   "execution_count": null,
   "metadata": {
    "vscode": {
     "languageId": "shellscript"
    }
   },
   "outputs": [],
   "source": [
    "# Install Miniconda\n",
    "bash ~/downloads/Miniconda3-latest-Linux-x86_64.sh"
   ]
  },
  {
   "cell_type": "code",
   "execution_count": null,
   "metadata": {
    "vscode": {
     "languageId": "shellscript"
    }
   },
   "outputs": [],
   "source": [
    "# Cleanup install files\n",
    "rm ~/downloads/Miniconda3-latest-Linux-x86_64.sh"
   ]
  },
  {
   "cell_type": "code",
   "execution_count": null,
   "metadata": {
    "vscode": {
     "languageId": "powershell"
    }
   },
   "outputs": [],
   "source": [
    "# Restart Ubuntu\n",
    "# Exit Ubuntu then in PowerShell run the following\n",
    "wsl --shutdown\n",
    "wsl -d ubuntu-tfml"
   ]
  },
  {
   "cell_type": "code",
   "execution_count": null,
   "metadata": {
    "vscode": {
     "languageId": "shellscript"
    }
   },
   "outputs": [],
   "source": [
    "# Update Conda\n",
    "conda update conda"
   ]
  },
  {
   "cell_type": "code",
   "execution_count": null,
   "metadata": {
    "vscode": {
     "languageId": "shellscript"
    }
   },
   "outputs": [],
   "source": [
    "# Save the environments package info in 'env/base'\n",
    "conda env export > ~/env/base/conda-env-export.yaml"
   ]
  },
  {
   "cell_type": "code",
   "execution_count": null,
   "metadata": {
    "vscode": {
     "languageId": "shellscript"
    }
   },
   "outputs": [],
   "source": [
    "# Create and activate the tfml environment\n",
    "wget https://raw.githubusercontent.com/BrandXX/tfml-env-pub/master/tfml/conda-env-export.yaml -P ~/env/tfml/\n",
    "conda env create --file=env/tfml/conda-env-export.yaml\n",
    "conda activate tfml"
   ]
  },
  {
   "cell_type": "markdown",
   "metadata": {},
   "source": [
    "---------------------------------------------------------------------------\n",
    "### Tensorflow 2 config\n",
    "---------------------------------------------------------------------------"
   ]
  },
  {
   "cell_type": "code",
   "execution_count": null,
   "metadata": {
    "vscode": {
     "languageId": "shellscript"
    }
   },
   "outputs": [],
   "source": [
    "# Config Conda environment activation scripts and set GPU Lib env var\n",
    "mkdir -p $CONDA_PREFIX/etc/conda/activate.d\n",
    "echo 'CUDNN_PATH=$(dirname $(python -c \"import nvidia.cudnn;print(nvidia.cudnn.__file__)\"))' >> $CONDA_PREFIX/etc/conda/activate.d/env_vars.sh\n",
    "echo 'export LD_LIBRARY_PATH=$CONDA_PREFIX/lib/:$CUDNN_PATH/lib:$LD_LIBRARY_PATH' >> $CONDA_PREFIX/etc/conda/activate.d/env_vars.sh\n",
    "mkdir -p $CONDA_PREFIX/lib/nvvm/libdevice/\n",
    "cp -p $CONDA_PREFIX/lib/libdevice.10.bc $CONDA_PREFIX/lib/nvvm/libdevice/\n",
    "echo 'export XLA_FLAGS=--xla_gpu_cuda_data_dir=$CONDA_PREFIX/lib' >> $CONDA_PREFIX/etc/conda/activate.d/env_vars.sh\n",
    "source $CONDA_PREFIX/etc/conda/activate.d/env_vars.sh"
   ]
  },
  {
   "cell_type": "markdown",
   "metadata": {},
   "source": [
    "---------------------------------------------------------------------------\n",
    "### Testing the environment\n",
    "---------------------------------------------------------------------------"
   ]
  },
  {
   "cell_type": "code",
   "execution_count": null,
   "metadata": {
    "vscode": {
     "languageId": "shellscript"
    }
   },
   "outputs": [],
   "source": [
    "# Verify Test01:\n",
    "python3 -c \"import tensorflow as tf; print(tf.config.list_physical_devices('GPU'))\"\n",
    "\n",
    "# Verify Test01 successful output\n",
    "    # Don't worry too much about Warnings or Information messages. The primary goal of the test is to list the GPU in the last line.\n",
    "\n",
    "[PhysicalDevice(name='/physical_device:GPU:0', device_type='GPU')]\n"
   ]
  },
  {
   "cell_type": "code",
   "execution_count": null,
   "metadata": {
    "vscode": {
     "languageId": "shellscript"
    }
   },
   "outputs": [],
   "source": [
    "# Verify Test02\n",
    "python3 -c \"import tensorflow.compat.v1 as tf; tf.test.is_gpu_available()\"\n",
    "\n",
    "# Verify Test02 successful output\n",
    "    # Don't worry too much about Warnings or Information messages. The primary goal of the test is to list the GPU details in the last line.\n",
    "\n",
    "2023-08-24 22:48:09.936172: I tensorflow/core/common_runtime/gpu/gpu_device.cc:1639] Created device /device:GPU:0 with 21286 MB memory:  -> device: 0, name: NVIDIA GeForce RTX 4090, pci bus id: 0000:01:00.0, compute capability: 8.9"
   ]
  },
  {
   "cell_type": "code",
   "execution_count": null,
   "metadata": {
    "vscode": {
     "languageId": "shellscript"
    }
   },
   "outputs": [],
   "source": [
    "# Verify Test03\n",
    "python3 -c \"import tensorflow.compat.v1 as tf; tf.enable_eager_execution(tf.ConfigProto(log_device_placement=True)); print(tf.add([1.0, 2.0], [3.0, 4.0]))\"\n",
    "\n",
    "# Verify Test03 successful output\n",
    "    # Don't worry too much about Warnings or Information messages. The primary goal is to show a 1-dimensional TensorFlow tensor with two elements both stored as 32-bit floating-point numbers.\n",
    "tf.Tensor([4. 6.], shape=(2,), dtype=float32)"
   ]
  },
  {
   "cell_type": "markdown",
   "metadata": {},
   "source": [
    "---------------------------------------------------------------------------\n",
    "### Finishing up\n",
    "---------------------------------------------------------------------------"
   ]
  },
  {
   "cell_type": "code",
   "execution_count": null,
   "metadata": {
    "vscode": {
     "languageId": "shellscript"
    }
   },
   "outputs": [],
   "source": [
    "# Save Package Lists for tfml environment\n",
    "conda env export > ~/env/tfml/conda-env-export.yaml\n"
   ]
  },
  {
   "cell_type": "markdown",
   "metadata": {},
   "source": [
    "---------------------------------------------------------------------------\n",
    "### Install and configure VScode\n",
    "---------------------------------------------------------------------------"
   ]
  },
  {
   "cell_type": "code",
   "execution_count": null,
   "metadata": {
    "vscode": {
     "languageId": "html"
    }
   },
   "outputs": [],
   "source": [
    "# No need to install VScode in your WSL environment. Install VScode on your host Windows machine.\n",
    "# Once installed run code . from the Linux terminal\n",
    "code .\n",
    "\n",
    "# Recommended VScode Extensions\n",
    "Visual Studio Code Remote Development Extension Pack\n",
    "URL: https://marketplace.visualstudio.com/items?itemName=ms-vscode-remote.vscode-remote-extensionpack\n",
    "Description: The Remote Development extension pack allows you to open any folder in a container, on a remote machine, or in the Windows Subsystem for Linux (WSL) and take advantage of VS Code's full feature set.\n",
    "\n",
    "Name: Python Development Extensions Pack\n",
    "URL: https://marketplace.visualstudio.com/items?itemName=demystifying-javascript.python-extensions-pack\n",
    "Description: This extension pack packages some of the most popular and some of my favorite extensions needed for fullstack Python development or web development.\n",
    "\n",
    "Name: Git Extension Pack\n",
    "URL: https://marketplace.visualstudio.com/items?itemName=donjayamanne.git-extension-pack\n",
    "Description: This extension pack packages some of the most popular (and some of my favorite) Git extensions."
   ]
  },
  {
   "cell_type": "markdown",
   "metadata": {},
   "source": [
    "---------------------------------------------------------------------------\n",
    "### Backup the WSL environment\n",
    "---------------------------------------------------------------------------"
   ]
  },
  {
   "cell_type": "code",
   "execution_count": null,
   "metadata": {
    "vscode": {
     "languageId": "powershell"
    }
   },
   "outputs": [],
   "source": [
    "# Backup the WSL Distro via PowerShell\n",
    "wsl --export ubuntu-tfml path/ubuntu-tfml-00.tar"
   ]
  },
  {
   "cell_type": "markdown",
   "metadata": {},
   "source": [
    "---------------------------------------------------------------------------\n",
    "### Additional Useful Info\n",
    "---------------------------------------------------------------------------"
   ]
  },
  {
   "cell_type": "markdown",
   "metadata": {},
   "source": [
    "GIT global config"
   ]
  },
  {
   "cell_type": "code",
   "execution_count": null,
   "metadata": {
    "vscode": {
     "languageId": "shellscript"
    }
   },
   "outputs": [],
   "source": [
    "# Set Global Git Username and Email\n",
    "git config --global user.name \"Your Name\"\n",
    "git config --global user.email \"youremail@yourdomain.com\""
   ]
  },
  {
   "cell_type": "code",
   "execution_count": null,
   "metadata": {
    "vscode": {
     "languageId": "shellscript"
    }
   },
   "outputs": [],
   "source": [
    "# Confirm the Git config changes\n",
    "git config --list"
   ]
  },
  {
   "cell_type": "markdown",
   "metadata": {},
   "source": [
    "Saving Package info"
   ]
  },
  {
   "cell_type": "code",
   "execution_count": null,
   "metadata": {
    "vscode": {
     "languageId": "shellscript"
    }
   },
   "outputs": [],
   "source": [
    "# Recommended\n",
    "conda env export > ~/env/tfml/conda-env-export.yaml\n",
    "\n",
    "# This can be used with pip install -r requirements.txt\n",
    "pip freeze > ~/env/tfml/requirements.txt \n",
    "\n",
    "# Extras\n",
    "conda list --explicit > ~/env/tfml/package-list-explicit_tf2.txt\n",
    "conda list > ~/env/tfml/package-list-simple_tf2.txt"
   ]
  },
  {
   "cell_type": "markdown",
   "metadata": {},
   "source": [
    "Check versions and info"
   ]
  },
  {
   "cell_type": "code",
   "execution_count": null,
   "metadata": {
    "vscode": {
     "languageId": "shellscript"
    }
   },
   "outputs": [],
   "source": [
    "# Check Python version\n",
    "python3 --version"
   ]
  },
  {
   "cell_type": "code",
   "execution_count": null,
   "metadata": {
    "vscode": {
     "languageId": "shellscript"
    }
   },
   "outputs": [],
   "source": [
    "# Check Tensorflow version\n",
    "python3 -c \"import tensorflow as tf; print('TensorFlow version:', tf.__version__)\"\n",
    "\n",
    "# <OR>\n",
    "\n",
    "python3 -c \"import tensorflow as tf; print(tf.__version__)\""
   ]
  },
  {
   "cell_type": "code",
   "execution_count": null,
   "metadata": {
    "vscode": {
     "languageId": "shellscript"
    }
   },
   "outputs": [],
   "source": [
    "# Check Keras version\n",
    "python -c 'import keras; print(keras.__version__)'"
   ]
  },
  {
   "cell_type": "code",
   "execution_count": null,
   "metadata": {
    "vscode": {
     "languageId": "shellscript"
    }
   },
   "outputs": [],
   "source": [
    "# Nvidia environment info\n",
    "nvidia-smi"
   ]
  }
 ],
 "metadata": {
  "language_info": {
   "name": "python"
  },
  "orig_nbformat": 4
 },
 "nbformat": 4,
 "nbformat_minor": 2
}
